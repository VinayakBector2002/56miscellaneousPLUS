{
 "cells": [
  {
   "cell_type": "markdown",
   "metadata": {},
   "source": [
    "## Q33"
   ]
  },
  {
   "cell_type": "code",
   "execution_count": 2,
   "metadata": {},
   "outputs": [
    {
     "name": "stdout",
     "output_type": "stream",
     "text": [
      "Date:  2020-10-12 19:25:39.319000\n",
      "UserName:  jovyan\n"
     ]
    },
    {
     "ename": "FileNotFoundError",
     "evalue": "[Errno 2] No such file or directory: 'emp1.dat'",
     "output_type": "error",
     "traceback": [
      "\u001b[0;31m---------------------------------------------------------------------------\u001b[0m",
      "\u001b[0;31mFileNotFoundError\u001b[0m                         Traceback (most recent call last)",
      "\u001b[0;32m<ipython-input-2-f987ee3bf83a>\u001b[0m in \u001b[0;36m<module>\u001b[0;34m\u001b[0m\n\u001b[1;32m      6\u001b[0m \u001b[0;34m\u001b[0m\u001b[0m\n\u001b[1;32m      7\u001b[0m \u001b[0;34m\u001b[0m\u001b[0m\n\u001b[0;32m----> 8\u001b[0;31m \u001b[0;32mwith\u001b[0m \u001b[0mopen\u001b[0m\u001b[0;34m(\u001b[0m\u001b[0;34m'emp1.dat'\u001b[0m\u001b[0;34m,\u001b[0m \u001b[0;34m'rb+'\u001b[0m\u001b[0;34m)\u001b[0m \u001b[0;32mas\u001b[0m \u001b[0mfin\u001b[0m\u001b[0;34m:\u001b[0m\u001b[0;34m\u001b[0m\u001b[0;34m\u001b[0m\u001b[0m\n\u001b[0m\u001b[1;32m      9\u001b[0m     \u001b[0;32mwhile\u001b[0m \u001b[0;32mTrue\u001b[0m\u001b[0;34m:\u001b[0m\u001b[0;34m\u001b[0m\u001b[0;34m\u001b[0m\u001b[0m\n\u001b[1;32m     10\u001b[0m         \u001b[0;32mtry\u001b[0m\u001b[0;34m:\u001b[0m\u001b[0;34m\u001b[0m\u001b[0;34m\u001b[0m\u001b[0m\n",
      "\u001b[0;31mFileNotFoundError\u001b[0m: [Errno 2] No such file or directory: 'emp1.dat'"
     ]
    }
   ],
   "source": [
    "from datetime import datetime\n",
    "import getpass\n",
    "print(\"Date: \",datetime.now( ))\n",
    "print(\"UserName: \",getpass.getuser( ))\n",
    "import pickle \n",
    "\n",
    "\n",
    "with open('emp1.dat', 'rb+') as fin:\n",
    "    while True:\n",
    "        try:\n",
    "            record = pickle.load(fin)\n",
    "            if record[\"EmpNO\"] == 1251:\n",
    "                record[\"Salary\"] += 2000\n",
    "                fin.seek(-1, 2)                    \n",
    "                pickle.dump(record, fin)\n",
    "                break\n",
    "                \n",
    "        except EOFError:\n",
    "            break\n"
   ]
  },
  {
   "cell_type": "markdown",
   "metadata": {},
   "source": [
    "## Q34"
   ]
  },
  {
   "cell_type": "code",
   "execution_count": 5,
   "metadata": {},
   "outputs": [
    {
     "name": "stdout",
     "output_type": "stream",
     "text": [
      "Date:  2020-10-12 19:35:01.117808\n",
      "UserName:  jovyan\n",
      "Item number1\n",
      "Enter Item No IN_100\n",
      "Name1K Ohm Resistor\n",
      "Price88\n",
      "CategoryScientific\n",
      "Item number2\n",
      "Enter Item No IN_101\n",
      "NameGopi Dairies\n",
      "Price300\n",
      "CategoryBooks\n",
      "Item number3\n",
      "Enter Item No IN_102\n",
      "NameStudy Table\n",
      "Price4200\n",
      "CategoryFurniture\n",
      "Item number4\n",
      "Enter Item No IN_103\n",
      "Name9V Battery\n",
      "Price260\n",
      "CategoryBatteries\n",
      "Item number5\n",
      "Enter Item No IN_104\n",
      "NameBird House\n",
      "Price450\n",
      "CategoryGarden and Outdoors\n"
     ]
    }
   ],
   "source": [
    "from datetime import datetime\n",
    "import getpass\n",
    "print(\"Date: \",datetime.now( ))\n",
    "print(\"UserName: \",getpass.getuser( ))\n",
    "\n",
    "import csv \n",
    "with open('Items.csv', 'w', newline='') as fout:\n",
    "    csv_writer = csv.writer(fout)\n",
    "    csv_writer.writerow(['ItemNo.', 'Name', 'Price', 'Category'])\n",
    "    for i in range(5):\n",
    "        print(\"Item number\" + str(i+1))\n",
    "        itemno = input('Enter Item No ')\n",
    "        name = input('Name')\n",
    "        price = int(input('Price'))\n",
    "        category = input('Category')\n",
    "        csv_writer.writerow([itemno,name, price, category])\n"
   ]
  },
  {
   "cell_type": "markdown",
   "metadata": {},
   "source": [
    "## Q35 "
   ]
  },
  {
   "cell_type": "code",
   "execution_count": 8,
   "metadata": {},
   "outputs": [
    {
     "name": "stdout",
     "output_type": "stream",
     "text": [
      "Date:  2020-10-12 19:41:39.715383\n",
      "UserName:  jovyan\n",
      "Search for item noIN_104\n",
      "['IN_104', 'Bird House', '450', 'Garden and Outdoors']\n"
     ]
    }
   ],
   "source": [
    "    from datetime import datetime\n",
    "    import getpass\n",
    "    print(\"Date: \",datetime.now( ))\n",
    "    print(\"UserName: \",getpass.getuser( )) \n",
    "    import csv\n",
    "    with open('Items.csv', 'r') as fin:\n",
    "        csv_reader = csv.reader(fin)\n",
    "\n",
    "        itemno = input(\"Search for item no\")\n",
    "        for row in csv_reader:\n",
    "            if row[0] == itemno:\n",
    "                print(row)\n",
    "                break"
   ]
  },
  {
   "cell_type": "markdown",
   "metadata": {},
   "source": [
    "## Q36"
   ]
  },
  {
   "cell_type": "code",
   "execution_count": 28,
   "metadata": {},
   "outputs": [
    {
     "name": "stdout",
     "output_type": "stream",
     "text": [
      "Date:  2020-10-12 19:56:39.517796\n",
      "UserName:  jovyan\n"
     ]
    }
   ],
   "source": [
    "    from datetime import datetime\n",
    "    import getpass\n",
    "    print(\"Date: \",datetime.now( ))\n",
    "    print(\"UserName: \",getpass.getuser( )) \n",
    "    import csv\n",
    "    with open('Items.csv', 'r') as fin:\n",
    "        with open(\"highitems.csv\", 'w') as fout:\n",
    "            csv_reader = csv.reader(fin)\n",
    "            csv_writer = csv.writer(fout)\n",
    "\n",
    "            for i in csv_reader:\n",
    "                try:\n",
    "                    if int(i[2]) > 250:\n",
    "                        csv_writer.writerow(i)\n",
    "                except:\n",
    "                    continue \n",
    "    "
   ]
  },
  {
   "cell_type": "markdown",
   "metadata": {},
   "source": [
    "## Q37"
   ]
  },
  {
   "cell_type": "code",
   "execution_count": 29,
   "metadata": {},
   "outputs": [
    {
     "name": "stdout",
     "output_type": "stream",
     "text": [
      "Date:  2020-10-12 20:00:11.507490\n",
      "UserName:  jovyan\n",
      "Item number1\n",
      "Enter Item No IN_100\n",
      "Name1K Ohm Resistor\n",
      "Price88\n",
      "CategoryScientific\n",
      "Item number2\n",
      "Enter Item No IN_101\n",
      "NameGopi Dairies\n",
      "Price300\n",
      "CategoryBooks\n",
      "Item number3\n",
      "Enter Item No IN_102\n",
      "NameStudy Table\n",
      "Price4200\n",
      "CategoryFurniture\n",
      "Item number4\n",
      "Enter Item No IN_103\n",
      "Name9V Battery\n",
      "Price260\n",
      "CategoryBatteries\n",
      "Item number5\n",
      "Enter Item No IN_104\n",
      "NameBird House\n",
      "Price450\n",
      "CategoryGarden and Outdoors\n"
     ]
    }
   ],
   "source": [
    "from datetime import datetime\n",
    "import getpass\n",
    "print(\"Date: \",datetime.now( ))\n",
    "print(\"UserName: \",getpass.getuser( ))\n",
    "\n",
    "import csv \n",
    "with open('Items.csv', 'w', newline='') as fout:\n",
    "    csv_writer = csv.writer(fout, delimiter='|')\n",
    "    csv_writer.writerow(['ItemNo.', 'Name', 'Price', 'Category'])\n",
    "    for i in range(5):\n",
    "        print(\"Item number\" + str(i+1))\n",
    "        itemno = input('Enter Item No ')\n",
    "        name = input('Name')\n",
    "        price = int(input('Price'))\n",
    "        category = input('Category')\n",
    "        csv_writer.writerow([itemno,name, price, category])"
   ]
  },
  {
   "cell_type": "code",
   "execution_count": null,
   "metadata": {},
   "outputs": [],
   "source": []
  }
 ],
 "metadata": {
  "kernelspec": {
   "display_name": "Python 3",
   "language": "python",
   "name": "python3"
  },
  "language_info": {
   "codemirror_mode": {
    "name": "ipython",
    "version": 3
   },
   "file_extension": ".py",
   "mimetype": "text/x-python",
   "name": "python",
   "nbconvert_exporter": "python",
   "pygments_lexer": "ipython3",
   "version": "3.6.11"
  }
 },
 "nbformat": 4,
 "nbformat_minor": 4
}

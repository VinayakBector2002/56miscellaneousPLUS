{
 "cells": [
  {
   "cell_type": "code",
   "execution_count": 71,
   "metadata": {},
   "outputs": [
    {
     "name": "stdout",
     "output_type": "stream",
     "text": [
      "Date:  2020-06-27 20:35:08.376627\n",
      "UserName:  jovyan\n",
      "*******\n",
      "     * \n",
      "    *  \n",
      "   *   \n",
      "  *    \n",
      " *     \n",
      "*******\n",
      "\n"
     ]
    }
   ],
   "source": [
    "from datetime import datetime \n",
    "import getpass \n",
    "print(\"Date: \",datetime.now( )) \n",
    "print(\"UserName: \",getpass.getuser( ))\n",
    "#2\n",
    "z=\"\"   \n",
    "for row in range(0,7):    \n",
    "    for column in range(0,7):\n",
    "        if row == 0 or row == 6:\n",
    "            if column >= 0 and column <= 6:\n",
    "                z+=\"*\"\n",
    "        elif row+column==6:\n",
    "            z+=\"*\"   \n",
    "        else:      \n",
    "            z+=\" \"    \n",
    "    z+=\"\\n\"    \n",
    "print(z)\n",
    "\n"
   ]
  },
  {
   "cell_type": "code",
   "execution_count": 74,
   "metadata": {},
   "outputs": [
    {
     "name": "stdout",
     "output_type": "stream",
     "text": [
      "Date:  2020-06-27 20:40:51.209059\n",
      "UserName:  jovyan\n",
      "[[['*', '*', '*', '*', '*', '*'], ['*', '*', '*', '*', '*', '*'], ['*', '*', '*', '*', '*', '*'], ['*', '*', '*', '*', '*', '*']], [['*', '*', '*', '*', '*', '*'], ['*', '*', '*', '*', '*', '*'], ['*', '*', '*', '*', '*', '*'], ['*', '*', '*', '*', '*', '*']], [['*', '*', '*', '*', '*', '*'], ['*', '*', '*', '*', '*', '*'], ['*', '*', '*', '*', '*', '*'], ['*', '*', '*', '*', '*', '*']]]\n"
     ]
    }
   ],
   "source": [
    "from datetime import datetime \n",
    "import getpass \n",
    "print(\"Date: \",datetime.now( )) \n",
    "print(\"UserName: \",getpass.getuser( ))\n",
    "#3\n",
    "\n",
    "l1 = []\n",
    "l2 = []\n",
    "l3 = []\n",
    "\n",
    "for k in range(6):\n",
    "    l1.append('*')\n",
    "for j in range(4):\n",
    "    l2.append(l1)\n",
    "for i in range(3):\n",
    "    l3.append(l2)\n",
    "   \n",
    "print(l3) \n"
   ]
  },
  {
   "cell_type": "code",
   "execution_count": 9,
   "metadata": {},
   "outputs": [
    {
     "name": "stdout",
     "output_type": "stream",
     "text": [
      "Date:  2020-06-27 19:41:19.871500\n",
      "UserName:  jovyan\n",
      "Length of the Box2\n",
      "Width of the Box3\n",
      "Height of the Box5\n"
     ]
    },
    {
     "data": {
      "text/plain": [
       "30.0"
      ]
     },
     "execution_count": 9,
     "metadata": {},
     "output_type": "execute_result"
    }
   ],
   "source": [
    "from datetime import datetime \n",
    "import getpass \n",
    "print(\"Date: \",datetime.now( )) \n",
    "print(\"UserName: \",getpass.getuser( ))\n",
    "\n",
    "#4\n",
    "def volume(l = 1.0,b = 1.0,h =1.0):\n",
    "    return(l*b*h)\n",
    "l = float(input('Length of the Box'))\n",
    "b = float(input('Width of the Box'))\n",
    "h = float(input('Height of the Box'))\n",
    "volume(l,b,h)"
   ]
  },
  {
   "cell_type": "code",
   "execution_count": 12,
   "metadata": {},
   "outputs": [
    {
     "name": "stdout",
     "output_type": "stream",
     "text": [
      "Date:  2020-06-27 19:42:20.655434\n",
      "UserName:  jovyan\n",
      "Please enter the first value 7\n"
     ]
    },
    {
     "data": {
      "text/plain": [
       "343"
      ]
     },
     "execution_count": 12,
     "metadata": {},
     "output_type": "execute_result"
    }
   ],
   "source": [
    "from datetime import datetime \n",
    "import getpass \n",
    "print(\"Date: \",datetime.now( )) \n",
    "print(\"UserName: \",getpass.getuser( ))\n",
    "#5a\n",
    "def cube(a = \"\"):\n",
    "    if a ==\"\":\n",
    "        return(2**3)\n",
    "    else:\n",
    "        return(a**3)\n",
    "\n",
    "a = int(input('Please enter the first value '))\n",
    "cube(a)"
   ]
  },
  {
   "cell_type": "code",
   "execution_count": 13,
   "metadata": {},
   "outputs": [
    {
     "name": "stdout",
     "output_type": "stream",
     "text": [
      "Date:  2020-06-27 19:42:32.272443\n",
      "UserName:  jovyan\n",
      "Please enter the first value hero\n",
      "Please enter the first value hero\n"
     ]
    },
    {
     "data": {
      "text/plain": [
       "True"
      ]
     },
     "execution_count": 13,
     "metadata": {},
     "output_type": "execute_result"
    }
   ],
   "source": [
    "from datetime import datetime \n",
    "import getpass \n",
    "print(\"Date: \",datetime.now( )) \n",
    "print(\"UserName: \",getpass.getuser( ))\n",
    "#5b\n",
    "def equality(h,k):\n",
    "    if h == k:\n",
    "        return True\n",
    "    else:\n",
    "        return False\n",
    "h = input('Please enter the first value ')\n",
    "k = input('Please enter the first value ')\n",
    "equality(h,k)\n"
   ]
  },
  {
   "cell_type": "code",
   "execution_count": 17,
   "metadata": {},
   "outputs": [
    {
     "name": "stdout",
     "output_type": "stream",
     "text": [
      "Date:  2020-06-27 19:44:30.863069\n",
      "UserName:  jovyan\n",
      "Enter a number to check whether it is Perfect or not 6\n",
      "Perfect Number\n"
     ]
    }
   ],
   "source": [
    "from datetime import datetime \n",
    "import getpass \n",
    "print(\"Date: \",datetime.now( )) \n",
    "print(\"UserName: \",getpass.getuser( ))\n",
    "#6\n",
    "def factors(x):\n",
    "    l1 = []\n",
    "    sm = 0\n",
    "    for i in range(1,round(x/2)+1):\n",
    "        if x%i == 0:\n",
    "            l1.append(i)\n",
    "    for i in l1:\n",
    "        sm +=i\n",
    "    if sm == x:\n",
    "        print('Perfect Number')\n",
    "    else :\n",
    "        print('Not a Perfect Number')\n",
    "x = int(input('Enter a number to check whether it is Perfect or not '))\n",
    "factors(x)\n"
   ]
  },
  {
   "cell_type": "code",
   "execution_count": 55,
   "metadata": {},
   "outputs": [
    {
     "name": "stdout",
     "output_type": "stream",
     "text": [
      "Date:  2020-06-27 20:12:01.707308\n",
      "UserName:  jovyan\n",
      "Enter the code which you want to executeprint('Hello World')\n",
      "Hello World\n"
     ]
    }
   ],
   "source": [
    "from datetime import datetime \n",
    "import getpass \n",
    "print(\"Date: \",datetime.now( )) \n",
    "print(\"UserName: \",getpass.getuser( ))\n",
    "#7\n",
    "def execute(s):\n",
    "    try:\n",
    "        x = exec(s)\n",
    "    except Exception as e:\n",
    "        print(\"Error:\", e)\n",
    "\n",
    "stg = str(input('Enter the code which you want to execute'))\n",
    "execute(stg)"
   ]
  },
  {
   "cell_type": "code",
   "execution_count": 69,
   "metadata": {},
   "outputs": [
    {
     "name": "stdout",
     "output_type": "stream",
     "text": [
      "Date:  2020-06-27 20:25:44.526651\n",
      "UserName:  jovyan\n",
      "Enter the number of digits 5\n"
     ]
    },
    {
     "data": {
      "text/plain": [
       "60891"
      ]
     },
     "execution_count": 69,
     "metadata": {},
     "output_type": "execute_result"
    }
   ],
   "source": [
    "from datetime import datetime \n",
    "import getpass \n",
    "print(\"Date: \",datetime.now( )) \n",
    "print(\"UserName: \",getpass.getuser( ))\n",
    "import random\n",
    "\n",
    "#8\n",
    "def digit(n):\n",
    "    try :\n",
    "        range_start = 10**(n-1)\n",
    "        range_end = (10**n)-1\n",
    "        return random.randint(range_start, range_end)\n",
    "    except Exception as SyntaxError:\n",
    "        print(\"Numbers can't start with 0 \")\n",
    "        \n",
    "    print(\"The number of digits in the number are:\",count)\n",
    "n = int(input('Enter the number of digits '))\n",
    "digit(n)\n"
   ]
  },
  {
   "cell_type": "code",
   "execution_count": 64,
   "metadata": {},
   "outputs": [
    {
     "name": "stdout",
     "output_type": "stream",
     "text": [
      "Date:  2020-06-27 20:22:34.968847\n",
      "UserName:  jovyan\n",
      "enter your first number of the series1\n",
      "enter your last number of the series7\n"
     ]
    },
    {
     "data": {
      "text/plain": [
       "(1, 3.0, 5.0, 7)"
      ]
     },
     "execution_count": 64,
     "metadata": {},
     "output_type": "execute_result"
    }
   ],
   "source": [
    "from datetime import datetime \n",
    "import getpass \n",
    "print(\"Date: \",datetime.now( )) \n",
    "print(\"UserName: \",getpass.getuser( ))\n",
    "#9\n",
    "def series(a,b):\n",
    "    diff = (a+b)/4\n",
    "    return (a, a+diff, b-diff, b)\n",
    "\n",
    "t = int(input('enter your first number of the series'))\n",
    "k = int(input('enter your last number of the series'))\n",
    "series(t,k)\n"
   ]
  },
  {
   "cell_type": "code",
   "execution_count": 31,
   "metadata": {},
   "outputs": [
    {
     "name": "stdout",
     "output_type": "stream",
     "text": [
      "Date:  2020-06-27 19:52:01.774155\n",
      "UserName:  jovyan\n",
      "Enter the number to test primality 7\n",
      "Prime\n"
     ]
    }
   ],
   "source": [
    "from datetime import datetime \n",
    "import getpass \n",
    "print(\"Date: \",datetime.now( )) \n",
    "print(\"UserName: \",getpass.getuser( ))\n",
    "#10\n",
    "def prime(p):\n",
    "    for i in range(2,round(p/2)):\n",
    "        if p %i == 0:\n",
    "            print(\"Not prime\")\n",
    "            \n",
    "        else:\n",
    "            print('Prime')\n",
    "            break\n",
    "\n",
    "p = int(input(\"Enter the number to test primality \"))\n",
    "prime(p)\n"
   ]
  },
  {
   "cell_type": "code",
   "execution_count": 36,
   "metadata": {},
   "outputs": [
    {
     "name": "stdout",
     "output_type": "stream",
     "text": [
      "Date:  2020-06-27 19:54:26.261618\n",
      "UserName:  jovyan\n",
      "Enter number to test primality 7\n"
     ]
    },
    {
     "data": {
      "text/plain": [
       "True"
      ]
     },
     "execution_count": 36,
     "metadata": {},
     "output_type": "execute_result"
    }
   ],
   "source": [
    "from datetime import datetime \n",
    "import getpass \n",
    "print(\"Date: \",datetime.now( )) \n",
    "print(\"UserName: \",getpass.getuser( ))\n",
    "#11\n",
    "def Isprime(N,a=2):\n",
    "    if N == 1:\n",
    "        print('Neither Prime nor composite')\n",
    "    elif N == 2:\n",
    "        return False\n",
    "    elif N%2 == 0:\n",
    "        return False\n",
    "    elif a>=N :\n",
    "        return True\n",
    "    \n",
    "    else:\n",
    "        return Isprime(N,a+1)    \n",
    "\n",
    "N = int(input('Enter number to test primality '))\n",
    "Isprime(N)\n"
   ]
  },
  {
   "cell_type": "code",
   "execution_count": 72,
   "metadata": {},
   "outputs": [
    {
     "name": "stdout",
     "output_type": "stream",
     "text": [
      "Date:  2020-06-27 20:37:34.639046\n",
      "UserName:  jovyan\n",
      "1st number 3\n",
      "2nd number 4\n"
     ]
    },
    {
     "data": {
      "text/plain": [
       "12"
      ]
     },
     "execution_count": 72,
     "metadata": {},
     "output_type": "execute_result"
    }
   ],
   "source": [
    "from datetime import datetime \n",
    "import getpass \n",
    "print(\"Date: \",datetime.now( )) \n",
    "print(\"UserName: \",getpass.getuser( ))\n",
    "\n",
    "def prdt(a,b):\n",
    "    if b == 1:\n",
    "        return a\n",
    "    elif b ==0:\n",
    "        return 0\n",
    "    else:\n",
    "        \n",
    "        return a + prdt(a,b-1)\n",
    "    \n",
    "a = int(input('1st number '))\n",
    "b = int(input('2nd number '))    \n",
    "prdt(a,b)"
   ]
  },
  {
   "cell_type": "code",
   "execution_count": 48,
   "metadata": {},
   "outputs": [
    {
     "name": "stdout",
     "output_type": "stream",
     "text": [
      "Date:  2020-06-27 20:05:09.821940\n",
      "UserName:  jovyan\n",
      "Plase enter the number to start the sequence5\n",
      "[5, 16, 8.0, 4.0, 2.0, 1]\n"
     ]
    }
   ],
   "source": [
    "from datetime import datetime \n",
    "import getpass \n",
    "print(\"Date: \",datetime.now( )) \n",
    "print(\"UserName: \",getpass.getuser( ))\n",
    "#13\n",
    "l2=[]\n",
    "def hailstone(n):\n",
    "    if n == 1:\n",
    "        l2.append(1)\n",
    "        print(l2)\n",
    "    elif n == 0:\n",
    "        return 0\n",
    "    elif n%2 == 0:\n",
    "        l2.append(n)\n",
    "        n = (n/2)\n",
    "        hailstone(n)\n",
    "    elif n%2 != 0:\n",
    "        l2.append(n)\n",
    "        n = 3*n +1\n",
    "        hailstone(n)\n",
    "        \n",
    "n = int(input('Plase enter the number to start the sequence'))\n",
    "hailstone(n)"
   ]
  },
  {
   "cell_type": "code",
   "execution_count": null,
   "metadata": {},
   "outputs": [],
   "source": []
  }
 ],
 "metadata": {
  "kernelspec": {
   "display_name": "Python 3",
   "language": "python",
   "name": "python3"
  },
  "language_info": {
   "codemirror_mode": {
    "name": "ipython",
    "version": 3
   },
   "file_extension": ".py",
   "mimetype": "text/x-python",
   "name": "python",
   "nbconvert_exporter": "python",
   "pygments_lexer": "ipython3",
   "version": "3.6.10"
  }
 },
 "nbformat": 4,
 "nbformat_minor": 4
}
